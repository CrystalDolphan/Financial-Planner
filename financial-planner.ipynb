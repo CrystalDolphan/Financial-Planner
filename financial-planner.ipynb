{
 "cells": [
  {
   "cell_type": "markdown",
   "metadata": {},
   "source": [
    "# Unit 5 - Financial Planning"
   ]
  },
  {
   "cell_type": "code",
   "execution_count": 1,
   "metadata": {},
   "outputs": [],
   "source": [
    "# Initial imports\n",
    "import os\n",
    "import requests\n",
    "import pandas as pd\n",
    "from dotenv import load_dotenv\n",
    "import alpaca_trade_api as tradeapi\n",
    "from MCForecastTools import MCSimulation\n",
    "\n",
    "%matplotlib inline"
   ]
  },
  {
   "cell_type": "code",
   "execution_count": 2,
   "metadata": {},
   "outputs": [
    {
     "data": {
      "text/plain": [
       "True"
      ]
     },
     "execution_count": 2,
     "metadata": {},
     "output_type": "execute_result"
    }
   ],
   "source": [
    "# Load .env enviroment variables\n",
    "load_dotenv()"
   ]
  },
  {
   "cell_type": "markdown",
   "metadata": {},
   "source": [
    "## Part 1 - Personal Finance Planner"
   ]
  },
  {
   "cell_type": "markdown",
   "metadata": {},
   "source": [
    "### Collect Crypto Prices Using the `requests` Library"
   ]
  },
  {
   "cell_type": "code",
   "execution_count": 3,
   "metadata": {},
   "outputs": [],
   "source": [
    "# Set current amount of crypto assets\n",
    "my_btc = 1.2\n",
    "my_eth = 5.3"
   ]
  },
  {
   "cell_type": "code",
   "execution_count": 4,
   "metadata": {},
   "outputs": [],
   "source": [
    "# Crypto API URLs\n",
    "btc_url = \"https://api.alternative.me/v2/ticker/Bitcoin/?convert=CAD\"\n",
    "eth_url = \"https://api.alternative.me/v2/ticker/Ethereum/?convert=CAD\""
   ]
  },
  {
   "cell_type": "code",
   "execution_count": 5,
   "metadata": {},
   "outputs": [
    {
     "name": "stdout",
     "output_type": "stream",
     "text": [
      "The current value of your 1.2 BTC is $37629.91\n",
      "The current value of your 5.3 ETH is $11597.70\n"
     ]
    }
   ],
   "source": [
    "# Fetch current BTC price\n",
    "response = requests.get(btc_url)\n",
    "json_response = response.json()\n",
    "btc_price = json_response[\"data\"][\"1\"][\"quotes\"][\"CAD\"][\"price\"]\n",
    "\n",
    "# Fetch current ETH price\n",
    "response = requests.get(eth_url)\n",
    "json_response = response.json()\n",
    "eth_price = json_response[\"data\"][\"1027\"][\"quotes\"][\"CAD\"][\"price\"]\n",
    "\n",
    "# Compute current value of my crypto\n",
    "my_btc_value = btc_price * my_btc\n",
    "my_eth_value = eth_price * my_eth\n",
    "\n",
    "# Print current crypto wallet balance\n",
    "print(f\"The current value of your {my_btc} BTC is ${my_btc_value:0.2f}\")\n",
    "print(f\"The current value of your {my_eth} ETH is ${my_eth_value:0.2f}\")"
   ]
  },
  {
   "cell_type": "markdown",
   "metadata": {},
   "source": [
    "### Collect Investments Data Using Alpaca: `SPY` (stocks) and `AGG` (bonds)"
   ]
  },
  {
   "cell_type": "code",
   "execution_count": 6,
   "metadata": {},
   "outputs": [],
   "source": [
    "# Set current amount of shares\n",
    "my_agg = 200\n",
    "my_spy = 50"
   ]
  },
  {
   "cell_type": "code",
   "execution_count": 7,
   "metadata": {},
   "outputs": [],
   "source": [
    "# Set Alpaca API key and secret\n",
    "alpaca_api_key = os.getenv(\"ALPACA_API_KEY\")\n",
    "alpaca_secret_key = os.getenv(\"ALPACA_SECRET_KEY\")\n",
    "\n",
    "# Create the Alpaca API object\n",
    "alpaca = tradeapi.REST(\n",
    "    alpaca_api_key,\n",
    "    alpaca_secret_key,\n",
    "    api_version=\"v2\")"
   ]
  },
  {
   "cell_type": "code",
   "execution_count": 8,
   "metadata": {},
   "outputs": [
    {
     "data": {
      "text/html": [
       "<div>\n",
       "<style scoped>\n",
       "    .dataframe tbody tr th:only-of-type {\n",
       "        vertical-align: middle;\n",
       "    }\n",
       "\n",
       "    .dataframe tbody tr th {\n",
       "        vertical-align: top;\n",
       "    }\n",
       "\n",
       "    .dataframe thead tr th {\n",
       "        text-align: left;\n",
       "    }\n",
       "\n",
       "    .dataframe thead tr:last-of-type th {\n",
       "        text-align: right;\n",
       "    }\n",
       "</style>\n",
       "<table border=\"1\" class=\"dataframe\">\n",
       "  <thead>\n",
       "    <tr>\n",
       "      <th></th>\n",
       "      <th colspan=\"5\" halign=\"left\">AGG</th>\n",
       "      <th colspan=\"5\" halign=\"left\">SPY</th>\n",
       "    </tr>\n",
       "    <tr>\n",
       "      <th></th>\n",
       "      <th>open</th>\n",
       "      <th>high</th>\n",
       "      <th>low</th>\n",
       "      <th>close</th>\n",
       "      <th>volume</th>\n",
       "      <th>open</th>\n",
       "      <th>high</th>\n",
       "      <th>low</th>\n",
       "      <th>close</th>\n",
       "      <th>volume</th>\n",
       "    </tr>\n",
       "    <tr>\n",
       "      <th>timestamp</th>\n",
       "      <th></th>\n",
       "      <th></th>\n",
       "      <th></th>\n",
       "      <th></th>\n",
       "      <th></th>\n",
       "      <th></th>\n",
       "      <th></th>\n",
       "      <th></th>\n",
       "      <th></th>\n",
       "      <th></th>\n",
       "    </tr>\n",
       "  </thead>\n",
       "  <tbody>\n",
       "    <tr>\n",
       "      <th>2023-01-24 05:00:00+00:00</th>\n",
       "      <td>99.84</td>\n",
       "      <td>100.32</td>\n",
       "      <td>99.68</td>\n",
       "      <td>100.28</td>\n",
       "      <td>6539095</td>\n",
       "      <td>398.88</td>\n",
       "      <td>401.15</td>\n",
       "      <td>397.64</td>\n",
       "      <td>400.2</td>\n",
       "      <td>59549719</td>\n",
       "    </tr>\n",
       "  </tbody>\n",
       "</table>\n",
       "</div>"
      ],
      "text/plain": [
       "                             AGG                                     SPY  \\\n",
       "                            open    high    low   close   volume    open   \n",
       "timestamp                                                                  \n",
       "2023-01-24 05:00:00+00:00  99.84  100.32  99.68  100.28  6539095  398.88   \n",
       "\n",
       "                                                            \n",
       "                             high     low  close    volume  \n",
       "timestamp                                                   \n",
       "2023-01-24 05:00:00+00:00  401.15  397.64  400.2  59549719  "
      ]
     },
     "execution_count": 8,
     "metadata": {},
     "output_type": "execute_result"
    }
   ],
   "source": [
    "# Format current date as ISO format\n",
    "today = pd.Timestamp(\"2023-01-24\", tz=\"America/New_York\").isoformat()\n",
    "\n",
    "# Set the tickers\n",
    "tickers = [\"AGG\", \"SPY\"]\n",
    "\n",
    "# Set timeframe to \"1Day\" for Alpaca API\n",
    "timeframe = \"1Day\"\n",
    "\n",
    "# Get current closing prices for SPY and AGG\n",
    "df_portfolio = alpaca.get_bars(\n",
    "    tickers,\n",
    "    timeframe,\n",
    "    start = today,\n",
    "    end = today\n",
    ").df\n",
    "df_portfolio.drop('trade_count', axis=1, inplace=True)\n",
    "df_portfolio.drop('vwap', axis=1, inplace=True)\n",
    "\n",
    "# Reorganize the DataFrame\n",
    "# Separate ticker data\n",
    "AGG = df_portfolio[df_portfolio['symbol']=='AGG'].drop('symbol', axis=1)\n",
    "SPY = df_portfolio[df_portfolio['symbol']=='SPY'].drop('symbol', axis=1)\n",
    "\n",
    "# Concatenate the ticker DataFrames\n",
    "df_portfolio = pd.concat([AGG,SPY],axis=1, keys=['AGG','SPY'])\n",
    "\n",
    "# Preview DataFrame\n",
    "df_portfolio"
   ]
  },
  {
   "cell_type": "code",
   "execution_count": 9,
   "metadata": {},
   "outputs": [
    {
     "name": "stdout",
     "output_type": "stream",
     "text": [
      "Current AGG closing price: $100.28\n",
      "Current SPY closing price: $400.2\n"
     ]
    }
   ],
   "source": [
    "# Pick AGG and SPY close prices\n",
    "agg_close_price = float(df_portfolio[\"AGG\"][\"close\"])\n",
    "spy_close_price = float(df_portfolio[\"SPY\"][\"close\"])\n",
    "\n",
    "# Print AGG and SPY close prices\n",
    "print(f\"Current AGG closing price: ${agg_close_price}\")\n",
    "print(f\"Current SPY closing price: ${spy_close_price}\")"
   ]
  },
  {
   "cell_type": "code",
   "execution_count": 10,
   "metadata": {},
   "outputs": [
    {
     "name": "stdout",
     "output_type": "stream",
     "text": [
      "The current value of your 50 SPY shares is $20010.00\n",
      "The current value of your 200 AGG shares is $20056.00\n"
     ]
    }
   ],
   "source": [
    "# Compute the current value of shares\n",
    "my_spy_value = my_spy * spy_close_price\n",
    "my_agg_value = my_agg * agg_close_price\n",
    "\n",
    "# Print current value of shares\n",
    "print(f\"The current value of your {my_spy} SPY shares is ${my_spy_value:0.2f}\")\n",
    "print(f\"The current value of your {my_agg} AGG shares is ${my_agg_value:0.2f}\")"
   ]
  },
  {
   "cell_type": "markdown",
   "metadata": {},
   "source": [
    "### Savings Health Analysis"
   ]
  },
  {
   "cell_type": "code",
   "execution_count": 11,
   "metadata": {},
   "outputs": [
    {
     "data": {
      "text/html": [
       "<div>\n",
       "<style scoped>\n",
       "    .dataframe tbody tr th:only-of-type {\n",
       "        vertical-align: middle;\n",
       "    }\n",
       "\n",
       "    .dataframe tbody tr th {\n",
       "        vertical-align: top;\n",
       "    }\n",
       "\n",
       "    .dataframe thead th {\n",
       "        text-align: right;\n",
       "    }\n",
       "</style>\n",
       "<table border=\"1\" class=\"dataframe\">\n",
       "  <thead>\n",
       "    <tr style=\"text-align: right;\">\n",
       "      <th></th>\n",
       "      <th>amount</th>\n",
       "    </tr>\n",
       "  </thead>\n",
       "  <tbody>\n",
       "    <tr>\n",
       "      <th>crypto</th>\n",
       "      <td>49227.603139</td>\n",
       "    </tr>\n",
       "    <tr>\n",
       "      <th>shares</th>\n",
       "      <td>40066.000000</td>\n",
       "    </tr>\n",
       "  </tbody>\n",
       "</table>\n",
       "</div>"
      ],
      "text/plain": [
       "              amount\n",
       "crypto  49227.603139\n",
       "shares  40066.000000"
      ]
     },
     "metadata": {},
     "output_type": "display_data"
    }
   ],
   "source": [
    "# Set monthly household income\n",
    "monthly_income = 12000\n",
    "\n",
    "# Consolidate financial assets data\n",
    "crypto = my_btc_value + my_eth_value\n",
    "shares = my_spy_value + my_agg_value\n",
    "\n",
    "# Create savings DataFrame\n",
    "savings = [crypto, shares]\n",
    "df_savings = pd.DataFrame(savings, columns=[\"amount\"], index=[\"crypto\", \"shares\"])\n",
    "\n",
    "# Display savings DataFrame\n",
    "display(df_savings)"
   ]
  },
  {
   "cell_type": "code",
   "execution_count": 12,
   "metadata": {},
   "outputs": [
    {
     "data": {
      "text/plain": [
       "<AxesSubplot:title={'center':'Composition of Personal Savings'}, ylabel='amount'>"
      ]
     },
     "execution_count": 12,
     "metadata": {},
     "output_type": "execute_result"
    },
    {
     "data": {
      "image/png": "[encoded data removed]",
      "text/plain": [
       "<Figure size 640x480 with 1 Axes>"
      ]
     },
     "metadata": {},
     "output_type": "display_data"
    }
   ],
   "source": [
    "# Plot savings pie chart\n",
    "df_savings.plot.pie(y=\"amount\", title=\"Composition of Personal Savings\")"
   ]
  },
  {
   "cell_type": "code",
   "execution_count": 13,
   "metadata": {},
   "outputs": [
    {
     "name": "stdout",
     "output_type": "stream",
     "text": [
      "Congratulations! You have enough money in your emergency fund.\n"
     ]
    }
   ],
   "source": [
    "# Set ideal emergency fund\n",
    "emergency_fund = monthly_income * 3\n",
    "\n",
    "# Calculate total amount of savings\n",
    "savings = crypto + shares\n",
    "\n",
    "# Validate saving health\n",
    "if savings > emergency_fund:\n",
    "    print(f\"Congratulations! You have enough money in your emergency fund.\")\n",
    "elif savings == emergency_fund:\n",
    "    print(f\"Congratulations! You have reached the financial goal.\")\n",
    "else:\n",
    "    gap = emergency_fund - savings\n",
    "    print(f\"You are ${gap: 0.2f} away from reaching the financial goal.\")"
   ]
  },
  {
   "cell_type": "markdown",
   "metadata": {},
   "source": [
    "## Part 2 - Retirement Planning\n",
    "\n",
    "### Monte Carlo Simulation"
   ]
  },
  {
   "cell_type": "code",
   "execution_count": 14,
   "metadata": {},
   "outputs": [],
   "source": [
    "# Set start and end dates of five years back from today.\n",
    "# Sample results may vary from the solution based on the time frame chosen\n",
    "start_date = pd.Timestamp('2018-01-24', tz='America/New_York').isoformat()\n",
    "end_date = pd.Timestamp('2023-01-24', tz='America/New_York').isoformat()"
   ]
  },
  {
   "cell_type": "code",
   "execution_count": 15,
   "metadata": {},
   "outputs": [],
   "source": [
    "tickers = [\"AGG\", \"SPY\"]\n",
    "timeframe = \"1Day\""
   ]
  },
  {
   "cell_type": "code",
   "execution_count": 16,
   "metadata": {},
   "outputs": [],
   "source": [
    "# Get 5 years' worth of historical data for SPY and AGG\n",
    "df_stock_data = alpaca.get_bars(\n",
    "    tickers,\n",
    "    timeframe,\n",
    "    start=start_date,\n",
    "    end=end_date\n",
    ").df\n",
    "df_stock_data.drop('trade_count', axis=1, inplace=True)\n",
    "df_stock_data.drop('vwap', axis=1, inplace=True)"
   ]
  },
  {
   "cell_type": "code",
   "execution_count": 17,
   "metadata": {},
   "outputs": [],
   "source": [
    "# Add a column of daily return \n",
    "df_stock_data['daily_return'] = df_stock_data['close'].pct_change()"
   ]
  },
  {
   "cell_type": "code",
   "execution_count": 18,
   "metadata": {},
   "outputs": [
    {
     "data": {
      "text/html": [
       "<div>\n",
       "<style scoped>\n",
       "    .dataframe tbody tr th:only-of-type {\n",
       "        vertical-align: middle;\n",
       "    }\n",
       "\n",
       "    .dataframe tbody tr th {\n",
       "        vertical-align: top;\n",
       "    }\n",
       "\n",
       "    .dataframe thead tr th {\n",
       "        text-align: left;\n",
       "    }\n",
       "\n",
       "    .dataframe thead tr:last-of-type th {\n",
       "        text-align: right;\n",
       "    }\n",
       "</style>\n",
       "<table border=\"1\" class=\"dataframe\">\n",
       "  <thead>\n",
       "    <tr>\n",
       "      <th></th>\n",
       "      <th colspan=\"6\" halign=\"left\">AGG</th>\n",
       "      <th colspan=\"6\" halign=\"left\">SPY</th>\n",
       "    </tr>\n",
       "    <tr>\n",
       "      <th></th>\n",
       "      <th>open</th>\n",
       "      <th>high</th>\n",
       "      <th>low</th>\n",
       "      <th>close</th>\n",
       "      <th>volume</th>\n",
       "      <th>daily_return</th>\n",
       "      <th>open</th>\n",
       "      <th>high</th>\n",
       "      <th>low</th>\n",
       "      <th>close</th>\n",
       "      <th>volume</th>\n",
       "      <th>daily_return</th>\n",
       "    </tr>\n",
       "    <tr>\n",
       "      <th>timestamp</th>\n",
       "      <th></th>\n",
       "      <th></th>\n",
       "      <th></th>\n",
       "      <th></th>\n",
       "      <th></th>\n",
       "      <th></th>\n",
       "      <th></th>\n",
       "      <th></th>\n",
       "      <th></th>\n",
       "      <th></th>\n",
       "      <th></th>\n",
       "      <th></th>\n",
       "    </tr>\n",
       "  </thead>\n",
       "  <tbody>\n",
       "    <tr>\n",
       "      <th>2018-01-24 05:00:00+00:00</th>\n",
       "      <td>108.25</td>\n",
       "      <td>108.32</td>\n",
       "      <td>108.15</td>\n",
       "      <td>108.29</td>\n",
       "      <td>2362470</td>\n",
       "      <td>NaN</td>\n",
       "      <td>284.02</td>\n",
       "      <td>284.7000</td>\n",
       "      <td>281.840</td>\n",
       "      <td>283.12</td>\n",
       "      <td>137943542</td>\n",
       "      <td>1.823295</td>\n",
       "    </tr>\n",
       "    <tr>\n",
       "      <th>2018-01-25 05:00:00+00:00</th>\n",
       "      <td>108.26</td>\n",
       "      <td>108.57</td>\n",
       "      <td>108.19</td>\n",
       "      <td>108.57</td>\n",
       "      <td>9858098</td>\n",
       "      <td>0.002586</td>\n",
       "      <td>284.16</td>\n",
       "      <td>284.2700</td>\n",
       "      <td>282.405</td>\n",
       "      <td>283.30</td>\n",
       "      <td>85942448</td>\n",
       "      <td>0.000636</td>\n",
       "    </tr>\n",
       "    <tr>\n",
       "      <th>2018-01-26 05:00:00+00:00</th>\n",
       "      <td>108.51</td>\n",
       "      <td>108.51</td>\n",
       "      <td>108.27</td>\n",
       "      <td>108.37</td>\n",
       "      <td>3808163</td>\n",
       "      <td>-0.001842</td>\n",
       "      <td>284.25</td>\n",
       "      <td>286.6285</td>\n",
       "      <td>283.960</td>\n",
       "      <td>286.56</td>\n",
       "      <td>111502740</td>\n",
       "      <td>0.011507</td>\n",
       "    </tr>\n",
       "    <tr>\n",
       "      <th>2018-01-29 05:00:00+00:00</th>\n",
       "      <td>108.14</td>\n",
       "      <td>108.25</td>\n",
       "      <td>108.02</td>\n",
       "      <td>108.18</td>\n",
       "      <td>3974898</td>\n",
       "      <td>-0.001753</td>\n",
       "      <td>285.93</td>\n",
       "      <td>286.4300</td>\n",
       "      <td>284.500</td>\n",
       "      <td>284.64</td>\n",
       "      <td>90206637</td>\n",
       "      <td>-0.006700</td>\n",
       "    </tr>\n",
       "    <tr>\n",
       "      <th>2018-01-30 05:00:00+00:00</th>\n",
       "      <td>108.12</td>\n",
       "      <td>108.12</td>\n",
       "      <td>107.92</td>\n",
       "      <td>108.01</td>\n",
       "      <td>3659538</td>\n",
       "      <td>-0.001571</td>\n",
       "      <td>282.59</td>\n",
       "      <td>284.7360</td>\n",
       "      <td>281.220</td>\n",
       "      <td>281.63</td>\n",
       "      <td>132075557</td>\n",
       "      <td>-0.010575</td>\n",
       "    </tr>\n",
       "  </tbody>\n",
       "</table>\n",
       "</div>"
      ],
      "text/plain": [
       "                              AGG                                   \\\n",
       "                             open    high     low   close   volume   \n",
       "timestamp                                                            \n",
       "2018-01-24 05:00:00+00:00  108.25  108.32  108.15  108.29  2362470   \n",
       "2018-01-25 05:00:00+00:00  108.26  108.57  108.19  108.57  9858098   \n",
       "2018-01-26 05:00:00+00:00  108.51  108.51  108.27  108.37  3808163   \n",
       "2018-01-29 05:00:00+00:00  108.14  108.25  108.02  108.18  3974898   \n",
       "2018-01-30 05:00:00+00:00  108.12  108.12  107.92  108.01  3659538   \n",
       "\n",
       "                                           SPY                             \\\n",
       "                          daily_return    open      high      low   close   \n",
       "timestamp                                                                   \n",
       "2018-01-24 05:00:00+00:00          NaN  284.02  284.7000  281.840  283.12   \n",
       "2018-01-25 05:00:00+00:00     0.002586  284.16  284.2700  282.405  283.30   \n",
       "2018-01-26 05:00:00+00:00    -0.001842  284.25  286.6285  283.960  286.56   \n",
       "2018-01-29 05:00:00+00:00    -0.001753  285.93  286.4300  284.500  284.64   \n",
       "2018-01-30 05:00:00+00:00    -0.001571  282.59  284.7360  281.220  281.63   \n",
       "\n",
       "                                                   \n",
       "                              volume daily_return  \n",
       "timestamp                                          \n",
       "2018-01-24 05:00:00+00:00  137943542     1.823295  \n",
       "2018-01-25 05:00:00+00:00   85942448     0.000636  \n",
       "2018-01-26 05:00:00+00:00  111502740     0.011507  \n",
       "2018-01-29 05:00:00+00:00   90206637    -0.006700  \n",
       "2018-01-30 05:00:00+00:00  132075557    -0.010575  "
      ]
     },
     "execution_count": 18,
     "metadata": {},
     "output_type": "execute_result"
    }
   ],
   "source": [
    "# Reorganize the DataFrame\n",
    "# Separate ticker data\n",
    "AGG = df_stock_data[df_stock_data['symbol']=='AGG'].drop('symbol', axis=1)\n",
    "SPY = df_stock_data[df_stock_data['symbol']=='SPY'].drop('symbol', axis=1)\n",
    "\n",
    "# Concatenate the ticker DataFrames\n",
    "df_stock_data = pd.concat([AGG,SPY],axis=1, keys=['AGG','SPY'])\n",
    "\n",
    "# Display sample data\n",
    "df_stock_data.head()"
   ]
  },
  {
   "cell_type": "code",
   "execution_count": 19,
   "metadata": {},
   "outputs": [],
   "source": [
    "# Configuring a Monte Carlo simulation to forecast 30 years cumulative returns\n",
    "num_sims=500\n",
    "MC = MCSimulation(\n",
    "    portfolio_data = df_stock_data,\n",
    "    num_simulation = num_sims,\n",
    "    num_trading_days = 252 * 30\n",
    ") "
   ]
  },
  {
   "cell_type": "code",
   "execution_count": 20,
   "metadata": {},
   "outputs": [
    {
     "data": {
      "text/html": [
       "<div>\n",
       "<style scoped>\n",
       "    .dataframe tbody tr th:only-of-type {\n",
       "        vertical-align: middle;\n",
       "    }\n",
       "\n",
       "    .dataframe tbody tr th {\n",
       "        vertical-align: top;\n",
       "    }\n",
       "\n",
       "    .dataframe thead tr th {\n",
       "        text-align: left;\n",
       "    }\n",
       "\n",
       "    .dataframe thead tr:last-of-type th {\n",
       "        text-align: right;\n",
       "    }\n",
       "</style>\n",
       "<table border=\"1\" class=\"dataframe\">\n",
       "  <thead>\n",
       "    <tr>\n",
       "      <th></th>\n",
       "      <th colspan=\"6\" halign=\"left\">AGG</th>\n",
       "      <th colspan=\"6\" halign=\"left\">SPY</th>\n",
       "    </tr>\n",
       "    <tr>\n",
       "      <th></th>\n",
       "      <th>open</th>\n",
       "      <th>high</th>\n",
       "      <th>low</th>\n",
       "      <th>close</th>\n",
       "      <th>volume</th>\n",
       "      <th>daily_return</th>\n",
       "      <th>open</th>\n",
       "      <th>high</th>\n",
       "      <th>low</th>\n",
       "      <th>close</th>\n",
       "      <th>volume</th>\n",
       "      <th>daily_return</th>\n",
       "    </tr>\n",
       "    <tr>\n",
       "      <th>timestamp</th>\n",
       "      <th></th>\n",
       "      <th></th>\n",
       "      <th></th>\n",
       "      <th></th>\n",
       "      <th></th>\n",
       "      <th></th>\n",
       "      <th></th>\n",
       "      <th></th>\n",
       "      <th></th>\n",
       "      <th></th>\n",
       "      <th></th>\n",
       "      <th></th>\n",
       "    </tr>\n",
       "  </thead>\n",
       "  <tbody>\n",
       "    <tr>\n",
       "      <th>2018-01-24 05:00:00+00:00</th>\n",
       "      <td>108.25</td>\n",
       "      <td>108.320</td>\n",
       "      <td>108.15</td>\n",
       "      <td>108.29</td>\n",
       "      <td>2362470</td>\n",
       "      <td>NaN</td>\n",
       "      <td>284.02</td>\n",
       "      <td>284.7000</td>\n",
       "      <td>281.840</td>\n",
       "      <td>283.12</td>\n",
       "      <td>137943542</td>\n",
       "      <td>1.823295</td>\n",
       "    </tr>\n",
       "    <tr>\n",
       "      <th>2018-01-25 05:00:00+00:00</th>\n",
       "      <td>108.26</td>\n",
       "      <td>108.570</td>\n",
       "      <td>108.19</td>\n",
       "      <td>108.57</td>\n",
       "      <td>9858098</td>\n",
       "      <td>0.002586</td>\n",
       "      <td>284.16</td>\n",
       "      <td>284.2700</td>\n",
       "      <td>282.405</td>\n",
       "      <td>283.30</td>\n",
       "      <td>85942448</td>\n",
       "      <td>0.000636</td>\n",
       "    </tr>\n",
       "    <tr>\n",
       "      <th>2018-01-26 05:00:00+00:00</th>\n",
       "      <td>108.51</td>\n",
       "      <td>108.510</td>\n",
       "      <td>108.27</td>\n",
       "      <td>108.37</td>\n",
       "      <td>3808163</td>\n",
       "      <td>-0.001842</td>\n",
       "      <td>284.25</td>\n",
       "      <td>286.6285</td>\n",
       "      <td>283.960</td>\n",
       "      <td>286.56</td>\n",
       "      <td>111502740</td>\n",
       "      <td>0.011507</td>\n",
       "    </tr>\n",
       "    <tr>\n",
       "      <th>2018-01-29 05:00:00+00:00</th>\n",
       "      <td>108.14</td>\n",
       "      <td>108.250</td>\n",
       "      <td>108.02</td>\n",
       "      <td>108.18</td>\n",
       "      <td>3974898</td>\n",
       "      <td>-0.001753</td>\n",
       "      <td>285.93</td>\n",
       "      <td>286.4300</td>\n",
       "      <td>284.500</td>\n",
       "      <td>284.64</td>\n",
       "      <td>90206637</td>\n",
       "      <td>-0.006700</td>\n",
       "    </tr>\n",
       "    <tr>\n",
       "      <th>2018-01-30 05:00:00+00:00</th>\n",
       "      <td>108.12</td>\n",
       "      <td>108.120</td>\n",
       "      <td>107.92</td>\n",
       "      <td>108.01</td>\n",
       "      <td>3659538</td>\n",
       "      <td>-0.001571</td>\n",
       "      <td>282.59</td>\n",
       "      <td>284.7360</td>\n",
       "      <td>281.220</td>\n",
       "      <td>281.63</td>\n",
       "      <td>132075557</td>\n",
       "      <td>-0.010575</td>\n",
       "    </tr>\n",
       "    <tr>\n",
       "      <th>...</th>\n",
       "      <td>...</td>\n",
       "      <td>...</td>\n",
       "      <td>...</td>\n",
       "      <td>...</td>\n",
       "      <td>...</td>\n",
       "      <td>...</td>\n",
       "      <td>...</td>\n",
       "      <td>...</td>\n",
       "      <td>...</td>\n",
       "      <td>...</td>\n",
       "      <td>...</td>\n",
       "      <td>...</td>\n",
       "    </tr>\n",
       "    <tr>\n",
       "      <th>2023-01-18 05:00:00+00:00</th>\n",
       "      <td>100.76</td>\n",
       "      <td>100.875</td>\n",
       "      <td>100.37</td>\n",
       "      <td>100.73</td>\n",
       "      <td>7779527</td>\n",
       "      <td>0.009926</td>\n",
       "      <td>399.01</td>\n",
       "      <td>400.1200</td>\n",
       "      <td>391.280</td>\n",
       "      <td>391.49</td>\n",
       "      <td>99651010</td>\n",
       "      <td>-0.015788</td>\n",
       "    </tr>\n",
       "    <tr>\n",
       "      <th>2023-01-19 05:00:00+00:00</th>\n",
       "      <td>100.73</td>\n",
       "      <td>100.730</td>\n",
       "      <td>100.33</td>\n",
       "      <td>100.50</td>\n",
       "      <td>8633859</td>\n",
       "      <td>-0.002283</td>\n",
       "      <td>389.36</td>\n",
       "      <td>391.0800</td>\n",
       "      <td>387.260</td>\n",
       "      <td>388.64</td>\n",
       "      <td>87066127</td>\n",
       "      <td>-0.007280</td>\n",
       "    </tr>\n",
       "    <tr>\n",
       "      <th>2023-01-20 05:00:00+00:00</th>\n",
       "      <td>100.17</td>\n",
       "      <td>100.260</td>\n",
       "      <td>99.89</td>\n",
       "      <td>100.09</td>\n",
       "      <td>6095775</td>\n",
       "      <td>-0.004080</td>\n",
       "      <td>390.10</td>\n",
       "      <td>396.0400</td>\n",
       "      <td>388.380</td>\n",
       "      <td>395.88</td>\n",
       "      <td>91806356</td>\n",
       "      <td>0.018629</td>\n",
       "    </tr>\n",
       "    <tr>\n",
       "      <th>2023-01-23 05:00:00+00:00</th>\n",
       "      <td>99.80</td>\n",
       "      <td>100.060</td>\n",
       "      <td>99.78</td>\n",
       "      <td>99.84</td>\n",
       "      <td>6573365</td>\n",
       "      <td>-0.002498</td>\n",
       "      <td>396.72</td>\n",
       "      <td>402.6450</td>\n",
       "      <td>395.720</td>\n",
       "      <td>400.63</td>\n",
       "      <td>84187957</td>\n",
       "      <td>0.011999</td>\n",
       "    </tr>\n",
       "    <tr>\n",
       "      <th>2023-01-24 05:00:00+00:00</th>\n",
       "      <td>99.84</td>\n",
       "      <td>100.320</td>\n",
       "      <td>99.68</td>\n",
       "      <td>100.28</td>\n",
       "      <td>6539095</td>\n",
       "      <td>0.004407</td>\n",
       "      <td>398.88</td>\n",
       "      <td>401.1500</td>\n",
       "      <td>397.640</td>\n",
       "      <td>400.20</td>\n",
       "      <td>59549719</td>\n",
       "      <td>-0.001073</td>\n",
       "    </tr>\n",
       "  </tbody>\n",
       "</table>\n",
       "<p>1259 rows × 12 columns</p>\n",
       "</div>"
      ],
      "text/plain": [
       "                              AGG                                    \\\n",
       "                             open     high     low   close   volume   \n",
       "timestamp                                                             \n",
       "2018-01-24 05:00:00+00:00  108.25  108.320  108.15  108.29  2362470   \n",
       "2018-01-25 05:00:00+00:00  108.26  108.570  108.19  108.57  9858098   \n",
       "2018-01-26 05:00:00+00:00  108.51  108.510  108.27  108.37  3808163   \n",
       "2018-01-29 05:00:00+00:00  108.14  108.250  108.02  108.18  3974898   \n",
       "2018-01-30 05:00:00+00:00  108.12  108.120  107.92  108.01  3659538   \n",
       "...                           ...      ...     ...     ...      ...   \n",
       "2023-01-18 05:00:00+00:00  100.76  100.875  100.37  100.73  7779527   \n",
       "2023-01-19 05:00:00+00:00  100.73  100.730  100.33  100.50  8633859   \n",
       "2023-01-20 05:00:00+00:00  100.17  100.260   99.89  100.09  6095775   \n",
       "2023-01-23 05:00:00+00:00   99.80  100.060   99.78   99.84  6573365   \n",
       "2023-01-24 05:00:00+00:00   99.84  100.320   99.68  100.28  6539095   \n",
       "\n",
       "                                           SPY                             \\\n",
       "                          daily_return    open      high      low   close   \n",
       "timestamp                                                                   \n",
       "2018-01-24 05:00:00+00:00          NaN  284.02  284.7000  281.840  283.12   \n",
       "2018-01-25 05:00:00+00:00     0.002586  284.16  284.2700  282.405  283.30   \n",
       "2018-01-26 05:00:00+00:00    -0.001842  284.25  286.6285  283.960  286.56   \n",
       "2018-01-29 05:00:00+00:00    -0.001753  285.93  286.4300  284.500  284.64   \n",
       "2018-01-30 05:00:00+00:00    -0.001571  282.59  284.7360  281.220  281.63   \n",
       "...                                ...     ...       ...      ...     ...   \n",
       "2023-01-18 05:00:00+00:00     0.009926  399.01  400.1200  391.280  391.49   \n",
       "2023-01-19 05:00:00+00:00    -0.002283  389.36  391.0800  387.260  388.64   \n",
       "2023-01-20 05:00:00+00:00    -0.004080  390.10  396.0400  388.380  395.88   \n",
       "2023-01-23 05:00:00+00:00    -0.002498  396.72  402.6450  395.720  400.63   \n",
       "2023-01-24 05:00:00+00:00     0.004407  398.88  401.1500  397.640  400.20   \n",
       "\n",
       "                                                   \n",
       "                              volume daily_return  \n",
       "timestamp                                          \n",
       "2018-01-24 05:00:00+00:00  137943542     1.823295  \n",
       "2018-01-25 05:00:00+00:00   85942448     0.000636  \n",
       "2018-01-26 05:00:00+00:00  111502740     0.011507  \n",
       "2018-01-29 05:00:00+00:00   90206637    -0.006700  \n",
       "2018-01-30 05:00:00+00:00  132075557    -0.010575  \n",
       "...                              ...          ...  \n",
       "2023-01-18 05:00:00+00:00   99651010    -0.015788  \n",
       "2023-01-19 05:00:00+00:00   87066127    -0.007280  \n",
       "2023-01-20 05:00:00+00:00   91806356     0.018629  \n",
       "2023-01-23 05:00:00+00:00   84187957     0.011999  \n",
       "2023-01-24 05:00:00+00:00   59549719    -0.001073  \n",
       "\n",
       "[1259 rows x 12 columns]"
      ]
     },
     "execution_count": 20,
     "metadata": {},
     "output_type": "execute_result"
    }
   ],
   "source": [
    "# Printing the simulation input data\n",
    "df_stock_data"
   ]
  },
  {
   "cell_type": "code",
   "execution_count": null,
   "metadata": {},
   "outputs": [
    {
     "name": "stdout",
     "output_type": "stream",
     "text": [
      "Running Monte Carlo simulation number 0.\n",
      "Running Monte Carlo simulation number 10.\n",
      "Running Monte Carlo simulation number 20.\n",
      "Running Monte Carlo simulation number 30.\n",
      "Running Monte Carlo simulation number 40.\n",
      "Running Monte Carlo simulation number 50.\n",
      "Running Monte Carlo simulation number 60.\n",
      "Running Monte Carlo simulation number 70.\n",
      "Running Monte Carlo simulation number 80.\n",
      "Running Monte Carlo simulation number 90.\n",
      "Running Monte Carlo simulation number 100.\n"
     ]
    },
    {
     "name": "stderr",
     "output_type": "stream",
     "text": [
      "C:\\Users\\Tracy Lao\\Desktop\\BootCamp\\Homework\\WEEK5-Starter_Code\\Instructions\\Starter_Code\\MCForecastTools.py:117: PerformanceWarning: DataFrame is highly fragmented.  This is usually the result of calling `frame.insert` many times, which has poor performance.  Consider joining all columns at once using pd.concat(axis=1) instead.  To get a de-fragmented frame, use `newframe = frame.copy()`\n",
      "  portfolio_cumulative_returns[n] = (1 + sim_df.fillna(0)).cumprod()\n"
     ]
    },
    {
     "name": "stdout",
     "output_type": "stream",
     "text": [
      "Running Monte Carlo simulation number 110.\n",
      "Running Monte Carlo simulation number 120.\n",
      "Running Monte Carlo simulation number 130.\n",
      "Running Monte Carlo simulation number 140.\n",
      "Running Monte Carlo simulation number 150.\n",
      "Running Monte Carlo simulation number 160.\n",
      "Running Monte Carlo simulation number 170.\n",
      "Running Monte Carlo simulation number 180.\n",
      "Running Monte Carlo simulation number 190.\n",
      "Running Monte Carlo simulation number 200.\n",
      "Running Monte Carlo simulation number 210.\n",
      "Running Monte Carlo simulation number 220.\n"
     ]
    }
   ],
   "source": [
    "# Running a Monte Carlo simulation to forecast 30 years cumulative returns\n",
    "MC.calc_cumulative_return()"
   ]
  },
  {
   "cell_type": "code",
   "execution_count": null,
   "metadata": {},
   "outputs": [],
   "source": [
    "# Plot simulation outcomes\n",
    "line_plot = MC.plot_simulation()\n",
    "line_plot.get_figure().savefig(\"MC_sim_plot.png\", bbox_inches=\"tight\")"
   ]
  },
  {
   "cell_type": "code",
   "execution_count": null,
   "metadata": {},
   "outputs": [],
   "source": [
    "# Plot probability distribution and confidence intervals\n",
    "dist_plot = MC.plot_distribution()\n",
    "dist_plot.get_figure().savefig('MC_dist_plot.png',bbox_inches='tight')"
   ]
  },
  {
   "cell_type": "markdown",
   "metadata": {},
   "source": [
    "### Retirement Analysis"
   ]
  },
  {
   "cell_type": "code",
   "execution_count": null,
   "metadata": {},
   "outputs": [],
   "source": [
    "# Fetch summary statistics from the Monte Carlo simulation results\n",
    "summary = MC.summarize_cumulative_return()\n",
    "\n",
    "# Print summary statistics\n",
    "print(summary)"
   ]
  },
  {
   "cell_type": "markdown",
   "metadata": {},
   "source": [
    "### Calculate the expected portfolio return at the `95%` lower and upper confidence intervals based on a `$20,000` initial investment."
   ]
  },
  {
   "cell_type": "code",
   "execution_count": null,
   "metadata": {},
   "outputs": [],
   "source": [
    "# Set initial investment\n",
    "initial_investment = 20000\n",
    "\n",
    "# Use the lower and upper `95%` confidence intervals to calculate the range of the possible outcomes of our $20,000\n",
    "ci_lower = round(summary[8]*20000,2)\n",
    "ci_upper = round(summary[9]*20000,2)\n",
    "\n",
    "\n",
    "# Print results\n",
    "print(f\"There is a 95% chance that an initial investment of ${initial_investment} in the portfolio\"\n",
    "      f\" over the next 30 years will end within in the range of\"\n",
    "      f\" ${ci_lower} and ${ci_upper}\")"
   ]
  },
  {
   "cell_type": "markdown",
   "metadata": {},
   "source": [
    "### Calculate the expected portfolio return at the `95%` lower and upper confidence intervals based on a `50%` increase in the initial investment."
   ]
  },
  {
   "cell_type": "code",
   "execution_count": null,
   "metadata": {},
   "outputs": [],
   "source": [
    "# Set initial investment\n",
    "initial_investment = 20000 * 1.5\n",
    "\n",
    "# Use the lower and upper `95%` confidence intervals to calculate the range of the possible outcomes of our $30,000\n",
    "ci_lower = round(summary[8]*30000,2)\n",
    "ci_upper = round(summary[9]*30000,2)\n",
    "\n",
    "# Print results\n",
    "print(f\"There is a 95% chance that an initial investment of ${initial_investment} in the portfolio\"\n",
    "      f\" over the next 30 years will end within in the range of\"\n",
    "      f\" ${ci_lower} and ${ci_upper}\")"
   ]
  },
  {
   "cell_type": "markdown",
   "metadata": {},
   "source": [
    "## Optional Challenge - Early Retirement\n",
    "\n",
    "\n",
    "### Five Years Retirement Option"
   ]
  },
  {
   "cell_type": "code",
   "execution_count": null,
   "metadata": {},
   "outputs": [],
   "source": [
    "# Configuring a Monte Carlo simulation to forecast 5 years cumulative returns\n",
    "num_sims=500\n",
    "MC_five = MCSimulation(\n",
    "    portfolio_data = df_stock_data,\n",
    "    num_simulation = num_sims,\n",
    "    num_trading_days = 252 * 5\n",
    ") "
   ]
  },
  {
   "cell_type": "code",
   "execution_count": null,
   "metadata": {},
   "outputs": [],
   "source": [
    "# Running a Monte Carlo simulation to forecast 5 years cumulative returns\n",
    "MC_five.calc_cumulative_return()"
   ]
  },
  {
   "cell_type": "code",
   "execution_count": null,
   "metadata": {},
   "outputs": [],
   "source": [
    "# Plot simulation outcomes\n",
    "l_plot = MC_five.plot_simulation()\n",
    "l_plot.get_figure().savefig(\"MC_sim_plot.png\", bbox_inches=\"tight\")"
   ]
  },
  {
   "cell_type": "code",
   "execution_count": null,
   "metadata": {},
   "outputs": [],
   "source": [
    "# Plot probability distribution and confidence intervals\n",
    "dist_plot = MC_five.plot_distribution()\n",
    "dist_plot.get_figure().savefig('MC_dist_plot.png',bbox_inches='tight')"
   ]
  },
  {
   "cell_type": "code",
   "execution_count": null,
   "metadata": {},
   "outputs": [],
   "source": [
    "# Fetch summary statistics from the Monte Carlo simulation results\n",
    "summary_five = MC_five.summarize_cumulative_return()\n",
    "\n",
    "# Print summary statistics\n",
    "print(summary_five)"
   ]
  },
  {
   "cell_type": "code",
   "execution_count": null,
   "metadata": {},
   "outputs": [],
   "source": [
    "# Set initial investment\n",
    "initial_investment = 60000\n",
    "\n",
    "# Use the lower and upper `95%` confidence intervals to calculate the range of the possible outcomes of our $60,000\n",
    "ci_lower_five = round(summary_five[8]*initial_investment,2)\n",
    "ci_upper_five = round(summary_five[9]*initial_investment,2)\n",
    "\n",
    "# Print results\n",
    "print(f\"There is a 95% chance that an initial investment of ${initial_investment} in the portfolio\"\n",
    "      f\" over the next 5 years will end within in the range of\"\n",
    "      f\" ${ci_lower_five} and ${ci_upper_five}\")"
   ]
  },
  {
   "cell_type": "markdown",
   "metadata": {},
   "source": [
    "### Ten Years Retirement Option"
   ]
  },
  {
   "cell_type": "code",
   "execution_count": null,
   "metadata": {},
   "outputs": [],
   "source": [
    "# Configuring a Monte Carlo simulation to forecast 10 years cumulative returns\n",
    "num_sims=500\n",
    "MC_ten = MCSimulation(\n",
    "    portfolio_data = df_stock_data,\n",
    "    num_simulation = num_sims,\n",
    "    num_trading_days = 252 * 10\n",
    ") "
   ]
  },
  {
   "cell_type": "code",
   "execution_count": null,
   "metadata": {},
   "outputs": [],
   "source": [
    "# Running a Monte Carlo simulation to forecast 10 years cumulative returns\n",
    "MC_ten.calc_cumulative_return()"
   ]
  },
  {
   "cell_type": "code",
   "execution_count": null,
   "metadata": {},
   "outputs": [],
   "source": [
    "# Plot simulation outcomes\n",
    "lin_plot = MC_ten.plot_simulation()\n",
    "lin_plot.get_figure().savefig(\"MC_sim_plot.png\", bbox_inches=\"tight\")"
   ]
  },
  {
   "cell_type": "code",
   "execution_count": null,
   "metadata": {},
   "outputs": [],
   "source": [
    "# Plot probability distribution and confidence intervals\n",
    "dist_plot = MC_five.plot_distribution()\n",
    "dist_plot.get_figure().savefig('MC_dist_plot.png',bbox_inches='tight')"
   ]
  },
  {
   "cell_type": "code",
   "execution_count": null,
   "metadata": {},
   "outputs": [],
   "source": [
    "# Fetch summary statistics from the Monte Carlo simulation results\n",
    "summary_ten = MC_ten.summarize_cumulative_return()\n",
    "\n",
    "# Print summary statistics\n",
    "print(summary_ten)"
   ]
  },
  {
   "cell_type": "code",
   "execution_count": null,
   "metadata": {},
   "outputs": [],
   "source": [
    "# Set initial investment\n",
    "initial_investment=60000\n",
    "\n",
    "# Use the lower and upper `95%` confidence intervals to calculate the range of the possible outcomes of our $60,000\n",
    "ci_lower_ten = round(summary_ten[8]*initial_investment,2)\n",
    "ci_upper_ten = round(summary_ten[9]*initial_investment,2)\n",
    "\n",
    "# Print results\n",
    "print(f\"There is a 95% chance that an initial investment of ${initial_investment} in the portfolio\"\n",
    "      f\" over the next 10 years will end within in the range of\"\n",
    "      f\" ${ci_lower_ten} and ${ci_upper_ten}\")"
   ]
  }
 ],
 "metadata": {
  "kernelspec": {
   "display_name": "Python 3 (ipykernel)",
   "language": "python",
   "name": "python3"
  },
  "language_info": {
   "codemirror_mode": {
    "name": "ipython",
    "version": 3
   },
   "file_extension": ".py",
   "mimetype": "text/x-python",
   "name": "python",
   "nbconvert_exporter": "python",
   "pygments_lexer": "ipython3",
   "version": "3.7.15"
  },
  "nteract": {
   "version": "0.28.0"
  }
 },
 "nbformat": 4,
 "nbformat_minor": 4
}
